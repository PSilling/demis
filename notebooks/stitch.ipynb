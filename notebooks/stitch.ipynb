{
 "cells": [
  {
   "attachments": {},
   "cell_type": "markdown",
   "metadata": {},
   "source": [
    "# Stitch Electron Microscopy Dataset\n",
    "\n",
    "Processes a dataset of electron microscopy (EM) image grids, creating stitched images according to the selected\n",
    "configuration."
   ]
  },
  {
   "cell_type": "code",
   "execution_count": null,
   "metadata": {},
   "outputs": [],
   "source": [
    "%cd ..\n",
    "\n",
    "import cv2\n",
    "import matplotlib.pyplot as plt\n",
    "import os\n",
    "import re\n",
    "\n",
    "# Import project definitions.\n",
    "from src.config.config import get_cfg_defaults\n",
    "from src.dataset.dataset_loader import DatasetLoader\n",
    "from src.dataset.demis_loader import DemisLoader\n",
    "from src.pipeline.demis_stitcher import DemisStitcher\n",
    "from src.pipeline.image_loader import ImageLoader"
   ]
  },
  {
   "attachments": {},
   "cell_type": "markdown",
   "metadata": {},
   "source": [
    "## Configure Stitching"
   ]
  },
  {
   "cell_type": "code",
   "execution_count": null,
   "metadata": {},
   "outputs": [],
   "source": [
    "# Prepare configuration.\n",
    "cfg_path = \"configs/demis-fine-tuned.yaml\"\n",
    "cfg = get_cfg_defaults()\n",
    "cfg.merge_from_file(cfg_path)\n",
    "cfg.freeze()\n",
    "\n",
    "# Stitching configuration.\n",
    "selected_grids = [3, 90, 255, 319]  # Use None to stitch all loaded grids.\n",
    "selected_slices = [0]  # Use None to stitch all loaded slices.\n",
    "plot_output = True\n",
    "save_output = False\n",
    "\n",
    "# Check is the DEMIS dataset is in use.\n",
    "images_path = os.path.join(cfg.DATASET.PATH, \"images\")\n",
    "labels_path = os.path.join(cfg.DATASET.PATH, \"labels\")\n",
    "is_demis = (os.path.isdir(images_path) and os.path.isdir(labels_path))\n",
    "\n",
    "# Load image paths.\n",
    "if is_demis:\n",
    "    loader = DemisLoader(cfg.DATASET.PATH)\n",
    "    labels = loader.load_labels()\n",
    "    image_paths = loader.load_paths(labels)\n",
    "else:\n",
    "    loader = DatasetLoader(cfg.DATASET.PATH)\n",
    "    image_paths = loader.load_paths()\n",
    "\n",
    "# Setup the output directory.\n",
    "os.makedirs(cfg.STITCHER.OUTPUT_PATH, exist_ok=True)\n",
    "\n",
    "len(image_paths)"
   ]
  },
  {
   "attachments": {},
   "cell_type": "markdown",
   "metadata": {},
   "source": [
    "## Stitch Using the Configured Stitcher\n",
    "\n",
    "Stitch image tiles in the selected grids using LoFTR or SIFT (depending on the configuration)."
   ]
  },
  {
   "cell_type": "code",
   "execution_count": null,
   "metadata": {},
   "outputs": [],
   "source": [
    "img_loader = ImageLoader(cfg)\n",
    "stitcher = DemisStitcher(cfg, img_loader)\n",
    "for path_key, tile_paths in image_paths.items():\n",
    "    grid_index, slice_index = path_key.split(\"_\")\n",
    "    if ((selected_grids is not None and int(grid_index) not in selected_grids)\n",
    "            or (selected_slices is not None and int(slice_index) not in selected_slices)):\n",
    "        continue\n",
    "    \n",
    "    # Stitch the grid and save the result.\n",
    "    stitched_image, _ = stitcher.stitch_grid(tile_paths, f\"g{grid_index}_s{slice_index}\")\n",
    "    if save_output:\n",
    "        out_filename = (f\"g{int(grid_index):05d}_s{int(slice_index):05d}\"\n",
    "                        f\"_{cfg.STITCHER.MATCHING_METHOD}.png\")\n",
    "        out_path = os.path.join(cfg.STITCHER.OUTPUT_PATH, out_filename)\n",
    "        cv2.imwrite(out_path, stitched_image)\n",
    "\n",
    "    # Plot the result if desired.\n",
    "    if plot_output:\n",
    "        fig = plt.figure(figsize=(50, 50))\n",
    "        if cfg.STITCHER.COLORED_OUTPUT:\n",
    "            plt.imshow(stitched_image)\n",
    "        else:\n",
    "            plt.imshow(stitched_image, cmap=\"gray\")"
   ]
  },
  {
   "attachments": {},
   "cell_type": "markdown",
   "metadata": {},
   "source": [
    "## Stitch Using DEMIS Labels\n",
    "\n",
    "If processing the DEMIS dataset, stitch image tiles in the selected grids using DEMIS labels."
   ]
  },
  {
   "cell_type": "code",
   "execution_count": null,
   "metadata": {},
   "outputs": [],
   "source": [
    "if is_demis:\n",
    "    for grid_labels in labels:\n",
    "        match = re.search(r\"g(\\d+)\", os.path.basename(grid_labels[\"path\"]))\n",
    "        if match is None:\n",
    "            raise ValueError(f\"Cannot parse labels file name: {grid_labels['path']}.\")\n",
    "        grid_index = int(match.groups()[0])\n",
    "        slice_index = 0  # The DEMIS dataset has no slices.\n",
    "        if ((selected_grids is not None and int(grid_index) not in selected_grids)\n",
    "                or (selected_slices is not None and slice_index not in selected_slices)):\n",
    "            continue\n",
    "        \n",
    "        # Stitch the grid and save the result.\n",
    "        stitched_image, _ = stitcher.stitch_demis_grid_mst(grid_labels)\n",
    "        if save_output:\n",
    "            out_filename = f\"g{int(grid_index):05d}_s00000_demis.png\"\n",
    "            out_path = os.path.join(cfg.STITCHER.OUTPUT_PATH, out_filename)\n",
    "            cv2.imwrite(out_path, stitched_image)\n",
    "\n",
    "        # Plot the result if desired.\n",
    "        if plot_output:\n",
    "            fig = plt.figure(figsize=(50, 50))\n",
    "            if cfg.STITCHER.COLORED_OUTPUT:\n",
    "                plt.imshow(stitched_image)\n",
    "            else:\n",
    "                plt.imshow(stitched_image, cmap=\"gray\")"
   ]
  }
 ],
 "metadata": {
  "kernelspec": {
   "display_name": "Python 3.8.13 ('loftr')",
   "language": "python",
   "name": "python3"
  },
  "language_info": {
   "codemirror_mode": {
    "name": "ipython",
    "version": 3
   },
   "file_extension": ".py",
   "mimetype": "text/x-python",
   "name": "python",
   "nbconvert_exporter": "python",
   "pygments_lexer": "ipython3",
   "version": "3.8.13"
  },
  "orig_nbformat": 2,
  "vscode": {
   "interpreter": {
    "hash": "15fd3888e566f887e83688ea48e046ac68e63c06e0e6ef05835d05dd2567edd5"
   }
  }
 },
 "nbformat": 4,
 "nbformat_minor": 2
}
