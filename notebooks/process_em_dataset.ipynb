{
 "cells": [
  {
   "attachments": {},
   "cell_type": "markdown",
   "metadata": {},
   "source": [
    "# Process Electron Microscopy (EM) Dataset\n",
    "\n",
    "Processes a dataset of EM image grids, creating stitched images according to the selected configuration."
   ]
  },
  {
   "cell_type": "code",
   "execution_count": null,
   "metadata": {},
   "outputs": [],
   "source": [
    "%load_ext autoreload\n",
    "%autoreload 2\n",
    "\n",
    "import cv2\n",
    "import matplotlib.pyplot as plt\n",
    "import os\n",
    "import sys\n",
    "\n",
    "# Add project directories.\n",
    "sys.path.append(os.path.abspath(\"..\"))\n",
    "sys.path.append(os.path.abspath(\"../src/dataset/\"))\n",
    "\n",
    "# Import project definitions.\n",
    "from src.config.config import get_cfg_defaults\n",
    "from src.dataset.dataset_loader import DatasetLoader\n",
    "from src.dataset.demis_loader import DemisLoader\n",
    "from src.pipeline.demis_stitcher import DemisStitcher\n",
    "from src.pipeline.image_cache import ImageCache"
   ]
  },
  {
   "cell_type": "code",
   "execution_count": null,
   "metadata": {},
   "outputs": [],
   "source": [
    "# Prepare configuration.\n",
    "config = \"../configs/tescan_2x2.yaml\"\n",
    "config = \"../configs/tescan_8x3.yaml\"\n",
    "config = \"../configs/demis.yaml\"\n",
    "cfg = get_cfg_defaults()\n",
    "cfg.merge_from_file(config)\n",
    "cfg.freeze()\n",
    "\n",
    "# Load image paths.\n",
    "if \"x\" in cfg.DATASET.PATH.lower():\n",
    "    loader = DatasetLoader(cfg.DATASET.PATH)\n",
    "    image_paths = loader.load_paths()\n",
    "else:\n",
    "    loader = DemisLoader(cfg.DATASET.PATH)\n",
    "    labels = loader.load_labels()\n",
    "    image_paths = loader.load_paths(labels)\n",
    "\n",
    "len(image_paths)"
   ]
  },
  {
   "cell_type": "code",
   "execution_count": null,
   "metadata": {},
   "outputs": [],
   "source": [
    "# Setup directories.\n",
    "os.makedirs(cfg.STITCHER.OUTPUT_PATH, exist_ok=True)\n",
    "\n",
    "# Stitch image tiles in each grid. A minimum spanning tree (MST) is constructed using\n",
    "# Prim-Jarník's algorithm to estimate the best stitching order for each grid.\n",
    "cache = ImageCache(cfg)\n",
    "stitcher = DemisStitcher(cfg, cache)\n",
    "for path_key, tile_paths in list(image_paths.items()):\n",
    "    stitched_image, _ = stitcher.stitch_grid_mst(tile_paths)\n",
    "    \n",
    "    # Save the result.\n",
    "    grid_index, slice_index = path_key.split(\"_\")\n",
    "    out_path = os.path.join(cfg.STITCHER.OUTPUT_PATH, f\"g{int(grid_index):05d}_s{int(slice_index):05d}.png\")\n",
    "    cv2.imwrite(out_path, stitched_image)\n",
    "\n",
    "    # Plot the result.\n",
    "    if cfg.STITCHER.PLOT_OUTPUT:\n",
    "        fig = plt.figure(figsize=(50, 50))\n",
    "        if cfg.STITCHER.COLORED_OUTPUT:\n",
    "            plt.imshow(stitched_image)\n",
    "        else:\n",
    "            plt.imshow(stitched_image, cmap=\"gray\")"
   ]
  },
  {
   "cell_type": "code",
   "execution_count": null,
   "metadata": {},
   "outputs": [],
   "source": [
    "for grid_labels in labels:\n",
    "    stitched_image, _ = stitcher.stitch_demis_grid_mst(grid_labels)\n",
    "\n",
    "    # Save the result.\n",
    "    grid_index, slice_index = path_key.split(\"_\")\n",
    "    out_path = os.path.join(cfg.STITCHER.OUTPUT_PATH, f\"g{int(grid_index):05d}_s{int(slice_index):05d}_demis.png\")\n",
    "    cv2.imwrite(out_path, stitched_image)\n",
    "\n",
    "    fig = plt.figure(figsize=(50, 50))\n",
    "    plt.imshow(stitched_image, cmap=\"gray\")\n"
   ]
  }
 ],
 "metadata": {
  "kernelspec": {
   "display_name": "Python 3.8.13 ('loftr')",
   "language": "python",
   "name": "python3"
  },
  "language_info": {
   "codemirror_mode": {
    "name": "ipython",
    "version": 3
   },
   "file_extension": ".py",
   "mimetype": "text/x-python",
   "name": "python",
   "nbconvert_exporter": "python",
   "pygments_lexer": "ipython3",
   "version": "3.8.13"
  },
  "orig_nbformat": 2,
  "vscode": {
   "interpreter": {
    "hash": "15fd3888e566f887e83688ea48e046ac68e63c06e0e6ef05835d05dd2567edd5"
   }
  }
 },
 "nbformat": 4,
 "nbformat_minor": 2
}
